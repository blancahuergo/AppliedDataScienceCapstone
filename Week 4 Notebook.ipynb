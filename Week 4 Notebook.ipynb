{
    "nbformat_minor": 1, 
    "cells": [
        {
            "source": "# Introduction / Business Problem", 
            "cell_type": "markdown", 
            "metadata": {
                "collapsed": true
            }
        }, 
        {
            "source": "### I find it particularly interesting to solve the problem of a businessman in Toronto wishing to expand the business into New York and London. I want to see how the neighbourhoods are both similar and different in the different continents and where the businessman should set up in order to maximise success. I will explore the optimum places of relocation of several existing venues and explain my wider findings about the relation between the three cities. My target audience are businesses set up in one of the three wishing to expand to any of the other two. I will choose an example from an existing business in London, one in Toronto and one in New York to showcase my findings.\n### By using the sum of squared differences between the frequency values of two neighbourhoods in two cities, we can compare how similar two neighbourhoods are in terms of the venues they have in each of them. My model will look at the venues in the neighbourhoods in Toronto, New York and London to see their similarity in terms of the venues available. Neighbourhoods with similar types of venues will likely have neighbours with similar interests. This will therefore make it more likely for the Canadian businessman to be successful in New York and London and viceversa.\n### Another measure that can be used to evaluate a suitable neighbourhood are the neighbourhoods that contain one or more of the businessman's type of venue. By analysing the other venues in these neighbourhoods, neighbourhoods that do not currently contain a venue of the businessman's type can also be considered. These venues have the additional benefit of the lack of direct competition.\n### I will also use data about the age, income and population of the different neighbourhoods compared to the original one to find neighbourhoods with similar types of customer.\n### By comparing these variables for the different neighbourhoods, I expect to find a suitable neighbourhood for the three examples to set up the businessman's company overseas, and I hope to gain more insight into the differences that arise between setting up in these different cities.", 
            "cell_type": "markdown", 
            "metadata": {}
        }, 
        {
            "source": "# Data", 
            "cell_type": "markdown", 
            "metadata": {}
        }, 
        {
            "source": "#### I will use the Foursquare API to obtain the data about the different venues per neighbourhood.", 
            "cell_type": "markdown", 
            "metadata": {}
        }, 
        {
            "source": "#### I will use the following table (https://en.wikipedia.org/wiki/List_of_areas_of_London) to obtain the neighbourhoods in London.", 
            "cell_type": "markdown", 
            "metadata": {}
        }, 
        {
            "source": "#### I will use TripAdvisor to find a successful venue in Toronto that I would like to study for the Capstone Project. I will then use the Foursquare API to get more information about the venue.", 
            "cell_type": "markdown", 
            "metadata": {}
        }, 
        {
            "source": "#### I will use GeoPy to obtain the latitude and longitude of the different addresses.", 
            "cell_type": "markdown", 
            "metadata": {}
        }, 
        {
            "source": "#### I will obtain the data for the income per neighbourhood from the data.gov website.", 
            "cell_type": "markdown", 
            "metadata": {}
        }
    ], 
    "metadata": {
        "kernelspec": {
            "display_name": "Python 3.5", 
            "name": "python3", 
            "language": "python"
        }, 
        "language_info": {
            "mimetype": "text/x-python", 
            "nbconvert_exporter": "python", 
            "version": "3.5.5", 
            "name": "python", 
            "file_extension": ".py", 
            "pygments_lexer": "ipython3", 
            "codemirror_mode": {
                "version": 3, 
                "name": "ipython"
            }
        }
    }, 
    "nbformat": 4
}