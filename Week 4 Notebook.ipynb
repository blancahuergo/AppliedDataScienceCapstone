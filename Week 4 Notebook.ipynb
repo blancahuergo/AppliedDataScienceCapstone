{
    "nbformat_minor": 1, 
    "cells": [
        {
            "source": "# Introduction / Business Problem", 
            "cell_type": "markdown", 
            "metadata": {
                "collapsed": true
            }
        }, 
        {
            "source": "### I find it particularly interesting to solve the problem of a businessman in Toronto wishing to expand the business into New York.\n### By using the sum of squared differences between the frequency values of two neighbourhoods in both cities, we can compare how similar two neighbourhoods are in terms of the venues they have in each of them. My model will look at the venues in the neighbourhood in Toronto and the venues in the neighbourhoods in New York to see their similarity in terms of the venues available. Neighbourhoods with similar types of venues will likely have neighbours with similar interests. This will therefore make it more likely for the Canadian businessman to be successful in New York.", 
            "cell_type": "markdown", 
            "metadata": {}
        }
    ], 
    "metadata": {
        "kernelspec": {
            "display_name": "Python 3.5", 
            "name": "python3", 
            "language": "python"
        }, 
        "language_info": {
            "mimetype": "text/x-python", 
            "nbconvert_exporter": "python", 
            "version": "3.5.5", 
            "name": "python", 
            "file_extension": ".py", 
            "pygments_lexer": "ipython3", 
            "codemirror_mode": {
                "version": 3, 
                "name": "ipython"
            }
        }
    }, 
    "nbformat": 4
}